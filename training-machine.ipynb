{
 "cells": [
  {
   "cell_type": "code",
   "execution_count": 1,
   "metadata": {},
   "outputs": [],
   "source": [
    "import torch\n",
    "from torch import nn as nn\n",
    "from torch import tensor\n",
    "\n",
    "class BinaryModel(nn.Module):\n",
    "    def __init__(self):\n",
    "        super (BinaryModel, self).__init__() #super(BinaryModel, self).__init__() calls the constructor of the parent class nn.Module.\n",
    "        self.linear1= nn.Linear(9,7)\n",
    "        self.linear2= nn.Linear(7,4)\n",
    "        self.linear3= nn.Linear(4,1)\n",
    "        self.activation= nn.Sigmoid()\n",
    "\n",
    "    def forward(self, x):\n",
    "        x= self.linear1(x)\n",
    "        x= self.linear2(x)\n",
    "        x= self.linear3(x)\n",
    "        x= self.activation(x)\n",
    "        return x \n",
    "model = BinaryModel()\n"
   ]
  },
  {
   "cell_type": "code",
   "execution_count": null,
   "metadata": {},
   "outputs": [],
   "source": []
  },
  {
   "cell_type": "code",
   "execution_count": 2,
   "metadata": {},
   "outputs": [
    {
     "name": "stdout",
     "output_type": "stream",
     "text": [
      "<bound method DataFrame.isnull of      footfall  tempMode  AQ  USS  CS  VOC  RP  IP  Temperature  fail\n",
      "0           0         7   7    1   6    6  36   3            1     1\n",
      "1         190         1   3    3   5    1  20   4            1     0\n",
      "2          31         7   2    2   6    1  24   6            1     0\n",
      "3          83         4   3    4   5    1  28   6            1     0\n",
      "4         640         7   5    6   4    0  68   6            1     0\n",
      "..        ...       ...  ..  ...  ..  ...  ..  ..          ...   ...\n",
      "939         0         7   7    1   6    4  73   6           24     1\n",
      "940         0         7   5    2   6    6  50   6           24     1\n",
      "941         0         3   6    2   7    5  43   6           24     1\n",
      "942         0         6   6    2   5    6  46   7           24     1\n",
      "943        18         7   4    2   6    3  61   7           24     1\n",
      "\n",
      "[944 rows x 10 columns]>\n",
      "footfall       0\n",
      "tempMode       0\n",
      "AQ             0\n",
      "USS            0\n",
      "CS             0\n",
      "VOC            0\n",
      "RP             0\n",
      "IP             0\n",
      "Temperature    0\n",
      "fail           0\n",
      "dtype: int64\n"
     ]
    }
   ],
   "source": [
    "import pandas as pd\n",
    "\n",
    "data = pd.read_csv('machine_failure.csv')\n",
    "print(data.isnull)\n",
    "print(data.isnull().sum())\n",
    "data.fillna(data.mean(), inplace=True)"
   ]
  },
  {
   "cell_type": "code",
   "execution_count": 4,
   "metadata": {},
   "outputs": [],
   "source": [
    "features = data.drop('fail', axis=1)\n",
    "labels = data['fail']\n"
   ]
  },
  {
   "cell_type": "code",
   "execution_count": 5,
   "metadata": {},
   "outputs": [],
   "source": [
    "from sklearn.preprocessing import StandardScaler\n",
    "\n",
    "scaler = StandardScaler()\n",
    "scaled_features = scaler.fit_transform(features)\n"
   ]
  },
  {
   "cell_type": "code",
   "execution_count": 10,
   "metadata": {},
   "outputs": [],
   "source": [
    "from sklearn.model_selection import train_test_split\n",
    "\n",
    "# batches = train_test_split(scaled_features, labels, test_size=0.2, random_state=42)\n",
    "# batche1_trianing = batches[0]\n",
    "# batche1_testing = batches[1]\n",
    "# batche2_trianing = batches[2]\n",
    "# batche2_testing = batches[3]\n",
    "trianing_features, testing_features, trianing_labels, testing_labels = train_test_split(scaled_features, labels, test_size=0.2, random_state=42)\n",
    "\n",
    "trianing_features = tensor(trianing_features, dtype=torch.float32)\n",
    "trianing_labels = tensor(trianing_labels.values, dtype=torch.float32)\n",
    "testing_features = tensor(testing_features, dtype=torch.float32)\n",
    "testing_labels = tensor(testing_labels.values, dtype=torch.float32)\n",
    "\n",
    "\n",
    "\n",
    "\n",
    "# prediction = model(trianing1_tensor)\n",
    "# print(prediction)"
   ]
  },
  {
   "cell_type": "code",
   "execution_count": 11,
   "metadata": {},
   "outputs": [],
   "source": [
    "from torch.utils.data import DataLoader, TensorDataset\n",
    "\n",
    "training_dataset = TensorDataset(trianing_features, trianing_labels)\n",
    "testing_dataset = TensorDataset(testing_features, testing_labels)\n",
    "\n",
    "training_loader = DataLoader(training_dataset, batch_size=32, shuffle=True)\n",
    "testing_loader = DataLoader(testing_dataset, batch_size=32, shuffle=False)\n"
   ]
  },
  {
   "cell_type": "code",
   "execution_count": 22,
   "metadata": {},
   "outputs": [
    {
     "name": "stdout",
     "output_type": "stream",
     "text": [
      "Epoch 1/2000, Loss: 0.2234896421432495\n",
      "Epoch 101/2000, Loss: 0.06176023185253143\n",
      "Epoch 201/2000, Loss: 0.08240002393722534\n",
      "Epoch 301/2000, Loss: 0.10628100484609604\n",
      "Epoch 401/2000, Loss: 0.42354798316955566\n",
      "Epoch 501/2000, Loss: 0.2691877782344818\n",
      "Epoch 601/2000, Loss: 0.31145355105400085\n",
      "Epoch 701/2000, Loss: 0.20320120453834534\n",
      "Epoch 801/2000, Loss: 0.049940984696149826\n",
      "Epoch 901/2000, Loss: 0.35202890634536743\n",
      "Epoch 1001/2000, Loss: 0.183867409825325\n",
      "Epoch 1101/2000, Loss: 0.072151780128479\n",
      "Epoch 1201/2000, Loss: 0.16355229914188385\n",
      "Epoch 1301/2000, Loss: 0.27561742067337036\n",
      "Epoch 1401/2000, Loss: 0.19716353714466095\n",
      "Epoch 1501/2000, Loss: 0.0989118218421936\n",
      "Epoch 1601/2000, Loss: 0.3229464888572693\n",
      "Epoch 1701/2000, Loss: 0.17537592351436615\n",
      "Epoch 1801/2000, Loss: 0.4562422037124634\n",
      "Epoch 1901/2000, Loss: 0.3862306773662567\n"
     ]
    }
   ],
   "source": [
    "from torch import optim\n",
    "criterion = nn.BCELoss()\n",
    "optimizer = optim.Adam(model.parameters(), lr=0.01)\n",
    "\n",
    "model.train()\n",
    "\n",
    "nums_of_epoch = 2000\n",
    "for epoch in range(nums_of_epoch):\n",
    "    for features, labels in training_loader:\n",
    "        optimizer.zero_grad()\n",
    "        output = model(features)\n",
    "        loss  = criterion(output, labels.view(-1, 1))\n",
    "        loss.backward() \n",
    "        optimizer.step()\n",
    "    if epoch%100 == 0:\n",
    "        print(f'Epoch {epoch+1}/{nums_of_epoch}, Loss: {loss.item()}')"
   ]
  },
  {
   "cell_type": "code",
   "execution_count": null,
   "metadata": {},
   "outputs": [],
   "source": []
  },
  {
   "cell_type": "code",
   "execution_count": null,
   "metadata": {},
   "outputs": [],
   "source": []
  },
  {
   "cell_type": "code",
   "execution_count": 21,
   "metadata": {},
   "outputs": [
    {
     "name": "stdout",
     "output_type": "stream",
     "text": [
      "Accuracy: 0.8677248954772949\n"
     ]
    }
   ],
   "source": [
    "from torchmetrics import Accuracy\n",
    "\n",
    "accuracy = Accuracy(task='binary')\n",
    "model.eval()\n",
    "with torch.no_grad():\n",
    "    for features, labels in testing_loader:\n",
    "        output = model(features)\n",
    "        prediction = output.round()\n",
    "        accuracy.update(prediction, labels.view(-1, 1))\n",
    "    model.train()\n",
    "    print(f'Accuracy: {accuracy.compute().item()}')\n"
   ]
  }
 ],
 "metadata": {
  "kernelspec": {
   "display_name": ".lmenv",
   "language": "python",
   "name": "python3"
  },
  "language_info": {
   "codemirror_mode": {
    "name": "ipython",
    "version": 3
   },
   "file_extension": ".py",
   "mimetype": "text/x-python",
   "name": "python",
   "nbconvert_exporter": "python",
   "pygments_lexer": "ipython3",
   "version": "3.12.1"
  }
 },
 "nbformat": 4,
 "nbformat_minor": 2
}
